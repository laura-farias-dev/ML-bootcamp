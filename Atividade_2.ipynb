{
  "nbformat": 4,
  "nbformat_minor": 0,
  "metadata": {
    "colab": {
      "provenance": []
    },
    "kernelspec": {
      "name": "python3",
      "display_name": "Python 3"
    },
    "language_info": {
      "name": "python"
    }
  },
  "cells": [
    {
      "cell_type": "markdown",
      "source": [
        "1. Função para Retornar Números Ímpares\n",
        "Pergunta: Escreva uma função que receba uma lista de números e retorne outra lista com os números ímpares."
      ],
      "metadata": {
        "id": "FOsHB_M6Cq5F"
      }
    },
    {
      "cell_type": "code",
      "execution_count": 1,
      "metadata": {
        "colab": {
          "base_uri": "https://localhost:8080/"
        },
        "id": "zdMewMPrChHK",
        "outputId": "2ca8956c-5392-41af-d292-4ae3171f1a74"
      },
      "outputs": [
        {
          "output_type": "stream",
          "name": "stdout",
          "text": [
            "Lista original: [1, 2, 3, 4, 5, 6, 7, 8, 9, 10]\n",
            "Números ímpares: [1, 3, 5, 7, 9]\n"
          ]
        }
      ],
      "source": [
        "def impares(lista_numeros):\n",
        "\n",
        "  numeros_impares = []\n",
        "  for numero in lista_numeros:\n",
        "    if numero % 2 != 0:\n",
        "      numeros_impares.append(numero)\n",
        "  return numeros_impares\n",
        "\n",
        "numeros = [1, 2, 3, 4, 5, 6, 7, 8, 9, 10]\n",
        "impares = impares(numeros)\n",
        "print(f\"Lista original: {numeros}\")\n",
        "print(f\"Números ímpares: {impares}\")"
      ]
    },
    {
      "cell_type": "markdown",
      "source": [
        "2. Escreva uma função que receba uma lista de números e retorne outra lista\n",
        "com os números primos presentes.\n"
      ],
      "metadata": {
        "id": "plSV0HKCCyV3"
      }
    },
    {
      "cell_type": "code",
      "source": [
        "def eh_primo(numero):\n",
        "  if numero <= 1:\n",
        "    return False\n",
        "  for i in range(2, int(numero**0.5) + 1):\n",
        "    if numero % i == 0:\n",
        "      return False\n",
        "  return True\n",
        "\n",
        "def primos(lista_numeros):\n",
        "\n",
        "  numeros_primos = []\n",
        "  for numero in lista_numeros:\n",
        "    if eh_primo(numero):\n",
        "      numeros_primos.append(numero)\n",
        "  return numeros_primos\n",
        "\n",
        "numeros = [1, 2, 3, 4, 5, 6, 7, 8, 9, 10, 11, 13, 17, 19]\n",
        "primos = primos(numeros)\n",
        "print(f\"Lista original: {numeros}\")\n",
        "print(f\"Números primos: {primos}\")"
      ],
      "metadata": {
        "colab": {
          "base_uri": "https://localhost:8080/"
        },
        "id": "3kVn5rwMC2EU",
        "outputId": "38744f21-a329-4213-82da-c0530aab4569"
      },
      "execution_count": 2,
      "outputs": [
        {
          "output_type": "stream",
          "name": "stdout",
          "text": [
            "Lista original: [1, 2, 3, 4, 5, 6, 7, 8, 9, 10, 11, 13, 17, 19]\n",
            "Números primos: [2, 3, 5, 7, 11, 13, 17, 19]\n"
          ]
        }
      ]
    },
    {
      "cell_type": "markdown",
      "source": [
        "3. Escreva uma função que receba duas listas e retorne outra lista com os\n",
        "elementos que estão presentes em apenas uma das listas.\n"
      ],
      "metadata": {
        "id": "HA7NYx1MC5xS"
      }
    },
    {
      "cell_type": "code",
      "source": [
        "def elementos_unicos(lista1, lista2):\n",
        "  set1 = set(lista1)\n",
        "  set2 = set(lista2)\n",
        "  diferenca_simetrica = set1.symmetric_difference(set2)\n",
        "  return list(diferenca_simetrica)\n",
        "\n",
        "l1 = [1, 2, 3, 4, 5]\n",
        "l2 = [4, 5, 6, 7, 8]\n",
        "unicos = elementos_unicos(l1, l2)\n",
        "print(f\"Lista 1: {l1}\")\n",
        "print(f\"Lista 2: {l2}\")\n",
        "print(f\"Elementos únicos: {unicos}\")"
      ],
      "metadata": {
        "colab": {
          "base_uri": "https://localhost:8080/"
        },
        "id": "5HfTX-NOC8SL",
        "outputId": "549bc90f-9265-4dda-ca9d-f666585ca74e"
      },
      "execution_count": 3,
      "outputs": [
        {
          "output_type": "stream",
          "name": "stdout",
          "text": [
            "Lista 1: [1, 2, 3, 4, 5]\n",
            "Lista 2: [4, 5, 6, 7, 8]\n",
            "Elementos únicos: [1, 2, 3, 6, 7, 8]\n"
          ]
        }
      ]
    },
    {
      "cell_type": "markdown",
      "source": [
        "4. Dada uma lista de números inteiros, escreva uma função para encontrar o\n",
        "segundo maior valor na lista.\n"
      ],
      "metadata": {
        "id": "e0bPWg44DAY0"
      }
    },
    {
      "cell_type": "code",
      "source": [
        "def segundo_maior(lista_numeros):\n",
        "  numeros_unicos = sorted(list(set(lista_numeros)), reverse=True)\n",
        "  if len(numeros_unicos) < 2:\n",
        "    return None\n",
        "  return numeros_unicos[1]\n",
        "\n",
        "numeros = [10, 20, 4, 45, 99, 45]\n",
        "segundo_maior = segundo_maior(numeros)\n",
        "print(f\"Lista: {numeros}\")\n",
        "print(f\"Segundo maior valor: {segundo_maior}\")"
      ],
      "metadata": {
        "colab": {
          "base_uri": "https://localhost:8080/"
        },
        "id": "pZ1kKoelDDDf",
        "outputId": "6d3566e2-0ffb-45de-e72b-cfbddb1d532c"
      },
      "execution_count": 4,
      "outputs": [
        {
          "output_type": "stream",
          "name": "stdout",
          "text": [
            "Lista: [10, 20, 4, 45, 99, 45]\n",
            "Segundo maior valor: 45\n"
          ]
        }
      ]
    },
    {
      "cell_type": "markdown",
      "source": [
        "5. Crie uma função que receba uma lista de tuplas, cada uma contendo o\n",
        "nome e a idade de uma pessoa, e retorne a lista ordenada pelo nome das\n",
        "pessoas em ordem alfabética."
      ],
      "metadata": {
        "id": "XY95Db-_DGxO"
      }
    },
    {
      "cell_type": "code",
      "source": [
        "def ordenar(lista_de_tuplas):\n",
        "\n",
        "  return sorted(lista_de_tuplas, key=lambda pessoa: pessoa[0])\n",
        "\n",
        "# Exemplo de uso:\n",
        "pessoas = [('Maria', 30), ('Ana', 25), ('Carlos', 35), ('Beatriz', 22)]\n",
        "pessoas_ordenadas = ordenar(pessoas)\n",
        "print(f\"Lista original: {pessoas}\")\n",
        "print(f\"Lista ordenada por nome: {pessoas_ordenadas}\")"
      ],
      "metadata": {
        "colab": {
          "base_uri": "https://localhost:8080/"
        },
        "id": "nErSDOSkDLOI",
        "outputId": "e22c17cb-75cd-476e-fa45-5572a0a3cabb"
      },
      "execution_count": 5,
      "outputs": [
        {
          "output_type": "stream",
          "name": "stdout",
          "text": [
            "Lista original: [('Maria', 30), ('Ana', 25), ('Carlos', 35), ('Beatriz', 22)]\n",
            "Lista ordenada por nome: [('Ana', 25), ('Beatriz', 22), ('Carlos', 35), ('Maria', 30)]\n"
          ]
        }
      ]
    },
    {
      "cell_type": "markdown",
      "source": [
        "6. Como identificar e tratar outliers em uma coluna numérica usando desvio padrão ou quartis?"
      ],
      "metadata": {
        "id": "nWd6o1mmDOeS"
      }
    },
    {
      "cell_type": "code",
      "source": [
        "# Criando um DF com outliers para o exemplo\n",
        "dados = {'valor': [10, 12, 12, 13, 12, 11, 14, 13, 15, 102, 10, -50]}\n",
        "df_outlier = pd.DataFrame(dados)\n",
        "print(\"--- DataFrame Original ---\")\n",
        "print(df_outlier)\n",
        "\n",
        "print(\"\\n--- Tratando Outliers com Desvio Padrão ---\")\n",
        "\n",
        "# Calcular a média e o desvio padrão\n",
        "media = df_outlier['valor'].mean()\n",
        "desvio_padrao = df_outlier['valor'].std()\n",
        "n_desvios = 2\n",
        "\n",
        "\n",
        "# Calcular os limites\n",
        "limite_inferior = media - n_desvios * desvio_padrao\n",
        "limite_superior = media + n_desvios * desvio_padrao\n",
        "\n",
        "print(f\"\\nMédia: {media:.2f}\")\n",
        "print(f\"Desvio Padrão: {desvio_padrao:.2f}\")\n",
        "print(f\"Limite Inferior ({n_desvios} desvios): {limite_inferior:.2f}\")\n",
        "print(f\"Limite Superior ({n_desvios} desvios): {limite_superior:.2f}\")\n",
        "\n",
        "\n",
        "# Identificar os outliers\n",
        "outliers = df_outlier[(df_outlier['valor'] < limite_inferior) | (df_outlier['valor'] > limite_superior)]\n",
        "print(\"\\nOutliers identificados:\")\n",
        "print(outliers)\n",
        "\n",
        "\n",
        "# Remover os outliers\n",
        "df_sem_outliers = df_outlier[(df_outlier['valor'] >= limite_inferior) & (df_outlier['valor'] <= limite_superior)]\n",
        "print(\"\\n--- DataFrame após remover os outliers ---\")\n",
        "print(df_sem_outliers)"
      ],
      "metadata": {
        "colab": {
          "base_uri": "https://localhost:8080/"
        },
        "id": "KcOR9iiQFEIl",
        "outputId": "22c039c4-8034-4875-f560-1c3c91972529"
      },
      "execution_count": 11,
      "outputs": [
        {
          "output_type": "stream",
          "name": "stdout",
          "text": [
            "--- DataFrame Original ---\n",
            "    valor\n",
            "0      10\n",
            "1      12\n",
            "2      12\n",
            "3      13\n",
            "4      12\n",
            "5      11\n",
            "6      14\n",
            "7      13\n",
            "8      15\n",
            "9     102\n",
            "10     10\n",
            "11    -50\n",
            "\n",
            "--- Tratando Outliers com Desvio Padrão ---\n",
            "\n",
            "Média: 14.50\n",
            "Desvio Padrão: 32.88\n",
            "Limite Inferior (2 desvios): -51.26\n",
            "Limite Superior (2 desvios): 80.26\n",
            "\n",
            "Outliers identificados:\n",
            "   valor\n",
            "9    102\n",
            "\n",
            "--- DataFrame após remover os outliers ---\n",
            "    valor\n",
            "0      10\n",
            "1      12\n",
            "2      12\n",
            "3      13\n",
            "4      12\n",
            "5      11\n",
            "6      14\n",
            "7      13\n",
            "8      15\n",
            "10     10\n",
            "11    -50\n"
          ]
        }
      ]
    },
    {
      "cell_type": "code",
      "source": [
        "import pandas as pd\n",
        "import numpy as np\n",
        "\n",
        "# Criando um DF com outliers\n",
        "dados = {'valor': [10, 12, 12, 13, 12, 11, 14, 13, 15, 102, 10, -50]}\n",
        "df_outlier = pd.DataFrame(dados)\n",
        "print(\"DataFrame Original:\")\n",
        "print(df_outlier)\n",
        "\n",
        "# --- Usando Quartis ---\n",
        "print(\"\\n--- Tratando Outliers com IQR ---\")\n",
        "Q1 = df_outlier['valor'].quantile(0.25)\n",
        "Q3 = df_outlier['valor'].quantile(0.75)\n",
        "IQR = Q3 - Q1\n",
        "limite_inferior = Q1 - 1.5 * IQR\n",
        "limite_superior = Q3 + 1.5 * IQR\n",
        "\n",
        "print(f\"Q1: {Q1}, Q3: {Q3}, IQR: {IQR}\")\n",
        "print(f\"Limite Inferior: {limite_inferior}\")\n",
        "print(f\"Limite Superior: {limite_superior}\")\n",
        "\n",
        "# Identificando outliers\n",
        "outliers = df_outlier[(df_outlier['valor'] < limite_inferior) | (df_outlier['valor'] > limite_superior)]\n",
        "print(\"\\nOutliers identificados:\")\n",
        "print(outliers)\n",
        "\n",
        "# Tratamento: Remover os outliers\n",
        "df_sem_outliers = df_outlier[(df_outlier['valor'] >= limite_inferior) & (df_outlier['valor'] <= limite_superior)]\n",
        "print(\"\\nDataFrame após remover outliers:\")\n",
        "print(df_sem_outliers)"
      ],
      "metadata": {
        "colab": {
          "base_uri": "https://localhost:8080/"
        },
        "id": "XDh0nZOGEH7y",
        "outputId": "e8a384e1-e0a2-4db4-feb6-c6796f95160e"
      },
      "execution_count": 10,
      "outputs": [
        {
          "output_type": "stream",
          "name": "stdout",
          "text": [
            "DataFrame Original:\n",
            "    valor\n",
            "0      10\n",
            "1      12\n",
            "2      12\n",
            "3      13\n",
            "4      12\n",
            "5      11\n",
            "6      14\n",
            "7      13\n",
            "8      15\n",
            "9     102\n",
            "10     10\n",
            "11    -50\n",
            "\n",
            "--- Tratando Outliers com IQR ---\n",
            "Q1: 10.75, Q3: 13.25, IQR: 2.5\n",
            "Limite Inferior: 7.0\n",
            "Limite Superior: 17.0\n",
            "\n",
            "Outliers identificados:\n",
            "    valor\n",
            "9     102\n",
            "11    -50\n",
            "\n",
            "DataFrame após remover outliers:\n",
            "    valor\n",
            "0      10\n",
            "1      12\n",
            "2      12\n",
            "3      13\n",
            "4      12\n",
            "5      11\n",
            "6      14\n",
            "7      13\n",
            "8      15\n",
            "10     10\n"
          ]
        }
      ]
    },
    {
      "cell_type": "markdown",
      "source": [
        "7. Como concatenar vários DataFrames (empilhando linhas ou colunas),\n",
        "mesmo que tenham colunas diferentes?\n",
        "Dica: Utiliza-se pd.concat() especificando axis=0 (linhas) ou axis=1\n",
        "(colunas). Quando há colunas diferentes, os valores ausentes são\n",
        "preenchidos com NaN.\n"
      ],
      "metadata": {
        "id": "m9bBPdibGbLu"
      }
    },
    {
      "cell_type": "code",
      "source": [
        "import pandas as pd\n",
        "\n",
        "# --- Empilhando Linhas --\n",
        "df1 = pd.DataFrame({'A': ['A0', 'A1'], 'B': ['B0', 'B1']})\n",
        "df2 = pd.DataFrame({'A': ['A2', 'A3'], 'C': ['C2', 'C3']})\n",
        "\n",
        "# Concatena linhas. Onde uma coluna não existe, preenche com NaN.\n",
        "resultado_linhas = pd.concat([df1, df2], ignore_index=True)\n",
        "print(\"--- Concatenando Linhas (axis=0) ---\")\n",
        "print(resultado_linhas)\n",
        "\n",
        "\n",
        "# --- Empilhando Colunas (axis=1) ---\n",
        "df3 = pd.DataFrame({'C': ['C0', 'C1'], 'D': ['D0', 'D1']})\n",
        "\n",
        "# Concatena colunas lado a lado\n",
        "resultado_colunas = pd.concat([df1, df3], axis=1)\n",
        "print(\"\\n--- Concatenando Colunas (axis=1) ---\")\n",
        "print(resultado_colunas)"
      ],
      "metadata": {
        "colab": {
          "base_uri": "https://localhost:8080/"
        },
        "id": "YkIhp3IhGjbU",
        "outputId": "958c9d93-e152-4c8e-cc17-440a7ec915ef"
      },
      "execution_count": 12,
      "outputs": [
        {
          "output_type": "stream",
          "name": "stdout",
          "text": [
            "--- Concatenando Linhas (axis=0) ---\n",
            "    A    B    C\n",
            "0  A0   B0  NaN\n",
            "1  A1   B1  NaN\n",
            "2  A2  NaN   C2\n",
            "3  A3  NaN   C3\n",
            "\n",
            "--- Concatenando Colunas (axis=1) ---\n",
            "    A   B   C   D\n",
            "0  A0  B0  C0  D0\n",
            "1  A1  B1  C1  D1\n"
          ]
        }
      ]
    },
    {
      "cell_type": "markdown",
      "source": [
        "8. Utilizando pandas, como realizar a leitura de um arquivo CSV em um\n",
        "DataFrame e exibir as primeiras linhas?"
      ],
      "metadata": {
        "id": "4icz9IiMG2uL"
      }
    },
    {
      "cell_type": "code",
      "source": [
        "import pandas as pd\n",
        "\n",
        "# Criando um arquivo CSV de exemplo\n",
        "dados_csv = \"\"\"ID,Nome,Idade\n",
        "1,Ana,28\n",
        "2,Bruno,35\n",
        "3,Carla,22\n",
        "4,Daniel,41\n",
        "5,Elisa,30\n",
        "6,Fernando,29\n",
        "7,Gabriela,38\n",
        "\"\"\"\n",
        "\n",
        "with open('meus_dados.csv', 'w') as f:\n",
        "    f.write(dados_csv)\n",
        "\n",
        "print(\"Arquivo 'meus_dados.csv' criado com sucesso.\")\n",
        "\n",
        "# Lendo o CSV para um DF\n",
        "df = pd.read_csv('meus_dados.csv')\n",
        "\n",
        "# Exibindo as 5 primeiras linhas do DF\n",
        "print(\"\\nAs 5 primeiras linhas do DataFrame:\")\n",
        "print(df.head())"
      ],
      "metadata": {
        "colab": {
          "base_uri": "https://localhost:8080/"
        },
        "id": "aUrvpw7gG38l",
        "outputId": "fa8ac900-df1d-4592-90a9-253b9cf6ba91"
      },
      "execution_count": 13,
      "outputs": [
        {
          "output_type": "stream",
          "name": "stdout",
          "text": [
            "Arquivo 'meus_dados.csv' criado com sucesso.\n",
            "\n",
            "As 5 primeiras linhas do DataFrame:\n",
            "   ID    Nome  Idade\n",
            "0   1     Ana     28\n",
            "1   2   Bruno     35\n",
            "2   3   Carla     22\n",
            "3   4  Daniel     41\n",
            "4   5   Elisa     30\n"
          ]
        }
      ]
    },
    {
      "cell_type": "markdown",
      "source": [
        "9. Utilizando pandas, como selecionar uma coluna específica e filtrar linhas\n",
        "em um “DataFrame” com base em uma condição?\n"
      ],
      "metadata": {
        "id": "kM6lNlwBHV6E"
      }
    },
    {
      "cell_type": "code",
      "source": [
        "import pandas as pd\n",
        "\n",
        "# Reutilizando o DF criado na célula anterior\n",
        "print(\"DataFrame Original:\")\n",
        "print(df)\n",
        "\n",
        "# Selecionando uma coluna específica\n",
        "coluna_nome = df['Nome']\n",
        "print(\"\\n--- Seleção da Coluna 'Nome' ---\")\n",
        "print(coluna_nome)\n",
        "\n",
        "# Filtrando linhas com base em uma condição (Idade > 30)\n",
        "df_filtrado = df[df['Idade'] > 30]\n",
        "print(\"\\n--- DataFrame Filtrado (Idade > 30) ---\")\n",
        "print(df_filtrado)"
      ],
      "metadata": {
        "colab": {
          "base_uri": "https://localhost:8080/"
        },
        "id": "irUcvw1qHfB8",
        "outputId": "432614bd-b4a6-4993-f192-06f1282b543a"
      },
      "execution_count": 17,
      "outputs": [
        {
          "output_type": "stream",
          "name": "stdout",
          "text": [
            "DataFrame Original:\n",
            "   ID      Nome  Idade\n",
            "0   1       Ana     28\n",
            "1   2     Bruno     35\n",
            "2   3     Carla     22\n",
            "3   4    Daniel     41\n",
            "4   5     Elisa     30\n",
            "5   6  Fernando     29\n",
            "6   7  Gabriela     38\n",
            "\n",
            "--- Seleção da Coluna 'Nome' ---\n",
            "0         Ana\n",
            "1       Bruno\n",
            "2       Carla\n",
            "3      Daniel\n",
            "4       Elisa\n",
            "5    Fernando\n",
            "6    Gabriela\n",
            "Name: Nome, dtype: object\n",
            "\n",
            "--- DataFrame Filtrado (Idade > 30) ---\n",
            "   ID      Nome  Idade\n",
            "1   2     Bruno     35\n",
            "3   4    Daniel     41\n",
            "6   7  Gabriela     38\n"
          ]
        }
      ]
    },
    {
      "cell_type": "markdown",
      "source": [
        "10. Utilizando pandas, como lidar com valores ausentes (NaN) em um\n",
        "DataFrame?\n"
      ],
      "metadata": {
        "id": "uRcVHJS8I1xi"
      }
    },
    {
      "cell_type": "code",
      "source": [
        "import pandas as pd\n",
        "import numpy as np\n",
        "\n",
        "# Criando um DF com valores ausentes\n",
        "dados = {'A': [1, 2, np.nan, 4, 5],\n",
        "         'B': [50, np.nan, 70, 80, np.nan],\n",
        "         'C': ['x', 'y', 'z', 'w', 'k']}\n",
        "df_nan = pd.DataFrame(dados)\n",
        "print(\"--- DataFrame Original com NaN ---\")\n",
        "print(df_nan)\n",
        "\n",
        "# --- Estratégia 1: Remover linhas com qualquer valor NaN ---\n",
        "df_removido = df_nan.dropna()\n",
        "print(\"\\n--- Após remover linhas com NaN (.dropna()) ---\")\n",
        "print(df_removido)\n",
        "\n",
        "# --- Estratégia 2: Preencher NaN com um valor específico (0) ---\n",
        "df_preenchido_zero = df_nan.fillna(0)\n",
        "print(\"\\n--- Após preencher NaN com 0 (.fillna(0)) ---\")\n",
        "print(df_preenchido_zero)\n",
        "\n",
        "# --- Estratégia 3: Preencher NaN com a média da respectiva coluna ---\n",
        "# O inplace=False (padrão) retorna uma cópia modificada.\n",
        "# O inplace=True modificaria o df_nan diretamente.\n",
        "df_preenchido_media = df_nan.copy() # Copia pra não alterar o original\n",
        "df_preenchido_media['A'] = df_preenchido_media['A'].fillna(df_preenchido_media['A'].mean())\n",
        "df_preenchido_media['B'] = df_preenchido_media['B'].fillna(df_preenchido_media['B'].mean())\n",
        "\n",
        "print(\"\\n--- Depois preencher NaN com a média da coluna ---\")\n",
        "print(df_preenchido_media)"
      ],
      "metadata": {
        "colab": {
          "base_uri": "https://localhost:8080/"
        },
        "id": "VraGPmKBI1dy",
        "outputId": "f62b3ab4-29b1-4b2c-dad5-c0c40ec05888"
      },
      "execution_count": 18,
      "outputs": [
        {
          "output_type": "stream",
          "name": "stdout",
          "text": [
            "--- DataFrame Original com NaN ---\n",
            "     A     B  C\n",
            "0  1.0  50.0  x\n",
            "1  2.0   NaN  y\n",
            "2  NaN  70.0  z\n",
            "3  4.0  80.0  w\n",
            "4  5.0   NaN  k\n",
            "\n",
            "--- Após remover linhas com NaN (.dropna()) ---\n",
            "     A     B  C\n",
            "0  1.0  50.0  x\n",
            "3  4.0  80.0  w\n",
            "\n",
            "--- Após preencher NaN com 0 (.fillna(0)) ---\n",
            "     A     B  C\n",
            "0  1.0  50.0  x\n",
            "1  2.0   0.0  y\n",
            "2  0.0  70.0  z\n",
            "3  4.0  80.0  w\n",
            "4  5.0   0.0  k\n",
            "\n",
            "--- Depois preencher NaN com a média da coluna ---\n",
            "     A          B  C\n",
            "0  1.0  50.000000  x\n",
            "1  2.0  66.666667  y\n",
            "2  3.0  70.000000  z\n",
            "3  4.0  80.000000  w\n",
            "4  5.0  66.666667  k\n"
          ]
        }
      ]
    }
  ]
}